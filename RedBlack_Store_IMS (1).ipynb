{
  "nbformat": 4,
  "nbformat_minor": 0,
  "metadata": {
    "colab": {
      "name": "RedBlack_Store_IMS.ipynb",
      "provenance": [],
      "collapsed_sections": []
    },
    "kernelspec": {
      "name": "python3",
      "display_name": "Python 3"
    },
    "language_info": {
      "name": "python"
    }
  },
  "cells": [
    {
      "cell_type": "code",
      "metadata": {
        "id": "dmzHrggT3Qj_"
      },
      "source": [
        "import json"
      ],
      "execution_count": null,
      "outputs": []
    },
    {
      "cell_type": "code",
      "metadata": {
        "id": "TEMJOpuBEbnr"
      },
      "source": [
        "fd = open(\"record.json\",\"r\")\n",
        "txt = fd.read()\n",
        "fd.close()"
      ],
      "execution_count": null,
      "outputs": []
    },
    {
      "cell_type": "code",
      "metadata": {
        "id": "_YJOteWqNJH-"
      },
      "source": [
        "records = json.loads(txt)"
      ],
      "execution_count": null,
      "outputs": []
    },
    {
      "cell_type": "code",
      "metadata": {
        "id": "srwg8U6xNfjx"
      },
      "source": [
        "print(\"Welcome To RED_BLACK store. Here you will get the freedom of colour you want for your topwear. Hope we serve you better\")\n",
        "print()\n",
        "print( \"*****************************************************\" )\n",
        "print(\"Todays special offers is 15% additional discount on total bill for min spend of 2500\")\n",
        "print( \"*****************************************************\" )\n",
        "print()\n",
        "print(\"Here is your navigator\") \n",
        "print(\"Plss select 1001-1010 for boys t-shirt of s-xxl size ordered respectivly\")\n",
        "print(\"Plss select 1051-1060 for girls t-shirt of s-xxl size ordered respectivly\")\n",
        "print(\"Plss select 2001-2010 for boys f-shirt of s-xxl size ordered respectivly\")\n",
        "print(\"Plss select 2051-2060 for girls f-shirt of s-xxl size ordered respectivly\")\n",
        "print(\"Plss select 3001-3005 for boys hoodie of s-xxl size ordered respectivly\")\n",
        "print(\"Plss select 3051-3055 for girls hoodie of s-xxl size ordered respectivly\")\n",
        "print(\"Each Product has two qualities Cotton and Blend, Same product of same size or quality can be found at a distance of 5 in ID\")\n",
        "print('Thats all for the navigator')\n",
        "print()\n",
        "print(\"Plss enter the product id you wish to purchase: \")\n",
        "ID = input()\n",
        "print()\n",
        "print(\"You have selected :\")\n",
        "print(records[ID])\n",
        "print()\n",
        "print(\"Plss confirm, Plss enter Y to continue\")\n",
        "inp = input()\n",
        "print()\n",
        "if inp == 'Y':\n",
        "  print(\"Plss enter the color you want for your topwear: \")\n",
        "  color = input()\n",
        "  print()\n",
        "  print(\"Plss enter the amount of the product you want to purchase: \")\n",
        "  amt = int(input())\n",
        "  if(amt>records[ID][\"C_Stocks\"]):\n",
        "    print(\"Sorry for the inconvinience but the amount entered is unavailable. We can only serve with \",records[ID][\"C_Stocks\"],\" right now. If you wish please retry again\");\n",
        "  else:\n",
        "    print()\n",
        "    print()\n",
        "    print(\"***************************************\")\n",
        "    print()\n",
        "    print(\"Here are your order details\")\n",
        "    print(\"Color - \",color)\n",
        "    print(\"Product - \",records[ID][\"P_Name\"])\n",
        "    print(\"Gender - \",records[ID][\"Gender\"])\n",
        "    print(\"Quality - \",records[ID][\"Quality\"])\n",
        "    print(\"Size - \",records[ID][\"Size\"])\n",
        "    print()\n",
        "    print()\n",
        "    bill = int(records[ID][\"Price\"])*amt;\n",
        "    if(bill >= 2500):\n",
        "      bill = bill + ((bill*15)/100.0)\n",
        "    print('Total Bill - ',bill)\n",
        "    print()\n",
        "    print(\"****************************************\")\n",
        "    print()\n",
        "    print()\n",
        "    print(\"Thank you for shopping with us!. Please visit again.\")\n",
        "    records[ID][\"C_Stocks\"]-=amt\n",
        "    js = json.dumps(records)\n",
        "    fd = open(\"record.json\",\"w\")\n",
        "    fd.write(js)\n",
        "    fd.close()\n",
        "else:\n",
        "  print(\"Thank you for shopping with us!. Please visit again.\")"
      ],
      "execution_count": null,
      "outputs": []
    },
    {
      "cell_type": "code",
      "metadata": {
        "id": "RnCTo5-9E9y-"
      },
      "source": [
        "import time\n",
        "fd = open(\"Sales.json\",\"r\")\n",
        "txt = fd.read()\n",
        "fd.close()\n",
        "sales = json.loads(txt)\n",
        "sales[len(sales)+1] = {'ID' : ID, 'Amount' : amt, 'Bill' : bill, 'Time' : time.ctime()}\n",
        "js = json.dumps(sales)\n",
        "fd = open(\"Sales.json\",\"w\")\n",
        "fd.write(js)\n",
        "fd.close()"
      ],
      "execution_count": 20,
      "outputs": []
    }
  ]
}