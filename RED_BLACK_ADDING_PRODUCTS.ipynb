{
  "nbformat": 4,
  "nbformat_minor": 0,
  "metadata": {
    "colab": {
      "name": "RED_BLACK_ADDING_PRODUCTS.ipynb",
      "provenance": []
    },
    "kernelspec": {
      "name": "python3",
      "display_name": "Python 3"
    },
    "language_info": {
      "name": "python"
    }
  },
  "cells": [
    {
      "cell_type": "code",
      "metadata": {
        "id": "363uRUmdIGx5"
      },
      "source": [
        "import json"
      ],
      "execution_count": null,
      "outputs": []
    },
    {
      "cell_type": "code",
      "metadata": {
        "id": "sgiUxP9SIR3X"
      },
      "source": [
        "fd = open(\"record.json\",\"r\")\n",
        "txt = fd.read()\n",
        "fd.close()\n",
        "\n",
        "records = json.loads(txt)"
      ],
      "execution_count": 3,
      "outputs": []
    },
    {
      "cell_type": "code",
      "metadata": {
        "id": "Ee5VCwFuIwsw"
      },
      "source": [
        "prod_id = str(input(\"Enter product id:\"))\n",
        "flag=0\n",
        "for id in records:\n",
        "  if(id==prod_id):\n",
        "    flag=1\n",
        "    break\n",
        "if(flag == 1):\n",
        "  print(\"Product details already available\")\n",
        "  st = int(input(\"Enter the amount:\"))\n",
        "  records[prod_id][\"C_Stocks\"] += st\n",
        "else:\n",
        "  name = str(input(\"Enter name:\"))\n",
        "  g = str(input(\"Enter proucts specified gender:\"))\n",
        "  s = str(input(\"Enter products size:\"))\n",
        "  q = str(input(\"Enter products quality:\"))\n",
        "  pr = int(input(\"Enter price:\"))\n",
        "  qn = int(input(\"Enter quantity:\"))\n",
        "  records[prod_id] = {'P_Name': name, 'Gender': g, 'Size': s, 'Quality': q, 'C_Stocks': qn, 'Price': pr}\n",
        "\n",
        "js = json.dumps(records)\n",
        "\n",
        "fd = open(\"record.json\",'w')\n",
        "fd.write(js)\n",
        "fd.close()"
      ],
      "execution_count": null,
      "outputs": []
    }
  ]
}